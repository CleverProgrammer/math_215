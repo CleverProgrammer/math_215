{
 "cells": [
  {
   "cell_type": "code",
   "execution_count": 86,
   "metadata": {
    "collapsed": false
   },
   "outputs": [
    {
     "data": {
      "text/latex": [
       "1. All students take calculus <br>\n",
       "Let S be set student <br>\n",
       "Let N(s) be a student that takes calculus <br>\n",
       "$$(\\exists s \\in S) (N(s))$$\n",
       "\n",
       "<br>\n",
       "2. All continuous functions are differentiable.\n",
       "$$\\forall d \\in F (P(d)) = (\\exists d \\in F)(~F(d))$$\n",
       "\n",
       "<br>\n",
       "3. There is a major at UI which is easy\n",
       "$$(m \\in UI)(P(m)) = (m \\not\\in UI)(\\neg P(m))$$\n",
       "\n",
       "<br>\n",
       "4. There is a set which has no subsets\n",
       "$$(\\forall f \\in F)(f=S)$$\n",
       "\n",
       "<br>\n",
       "5. Every child hates some vegetable\n",
       "$$(\\exists c \\in C)(\\neg V(i))$$\n",
       "\n",
       "<br>\n",
       "6. For all real numbers x, there is an integer M such that x < M <br>\n",
       "Let M be an integer <br>\n",
       "$$(\\exists x \\in \\mathbb{R})(M \\mid x < M)$$\n",
       "\n",
       "<br>\n",
       "7. Joe is in the band and he plays tennis\n",
       "$$(J \\in B) \\lor (J \\in T)$$\n",
       "\n",
       "<br>\n",
       "8. The function f is bounded and continuous <br>\n",
       "Let P(x) be that f is bounded <br>\n",
       "Let Q(x) be that f is continuous\n",
       "$$P(x) \\lor Q(x)$$\n",
       "\n",
       "<br>\n",
       "9. Stop taking the medications if you experience headaches or dizziness. <br>\n",
       "Let P(x) be that you experience headaches <br>\n",
       "Let Q(x) be that you experience dizziness\n",
       "$$P(x) \\land Q(x)$$\n",
       "\n",
       "<br>\n",
       "10. x is an integer or x > 0\n",
       "$$(x \\in \\mathbb{Z}) \\land (x > 0)$$\n",
       "\n",
       "<br>\n",
       "11. If you get A(s) on all your tests, you will get an A in this course <br>\n",
       "Let P(x) be that you get A(s) on all your tests <br>\n",
       "Let Q(x) be that you will get an A in this course\n",
       "$$P(x) \\implies \\neg Q(x)$$"
      ],
      "text/plain": [
       "<IPython.core.display.Latex object>"
      ]
     },
     "metadata": {},
     "output_type": "display_data"
    }
   ],
   "source": [
    "%%latex\n",
    "1. All students take calculus <br>\n",
    "Let S be set student <br>\n",
    "Let N(s) be a student that takes calculus <br>\n",
    "$$(\\exists s \\in S) (N(s))$$\n",
    "\n",
    "<br>\n",
    "2. All continuous functions are differentiable.\n",
    "$$\\forall d \\in F (P(d)) = (\\exists d \\in F)(~F(d))$$\n",
    "\n",
    "<br>\n",
    "3. There is a major at UI which is easy\n",
    "$$(m \\in UI)(P(m)) = (m \\not\\in UI)(\\neg P(m))$$\n",
    "\n",
    "<br>\n",
    "4. There is a set which has no subsets\n",
    "$$(\\forall f \\in F)(f=S)$$\n",
    "\n",
    "<br>\n",
    "5. Every child hates some vegetable\n",
    "$$(\\exists c \\in C)(\\neg V(i))$$\n",
    "\n",
    "<br>\n",
    "6. For all real numbers x, there is an integer M such that x < M <br>\n",
    "Let M be an integer <br>\n",
    "$$(\\exists x \\in \\mathbb{R})(M \\mid x < M)$$\n",
    "\n",
    "<br>\n",
    "7. Joe is in the band and he plays tennis\n",
    "$$(J \\in B) \\lor (J \\in T)$$\n",
    "\n",
    "<br>\n",
    "8. The function f is bounded and continuous <br>\n",
    "Let P(x) be that f is bounded <br>\n",
    "Let Q(x) be that f is continuous\n",
    "$$P(x) \\lor Q(x)$$\n",
    "\n",
    "<br>\n",
    "9. Stop taking the medications if you experience headaches or dizziness. <br>\n",
    "Let P(x) be that you experience headaches <br>\n",
    "Let Q(x) be that you experience dizziness\n",
    "$$P(x) \\land Q(x)$$\n",
    "\n",
    "<br>\n",
    "10. x is an integer or x > 0\n",
    "$$(x \\in \\mathbb{Z}) \\land (x > 0)$$\n",
    "\n",
    "<br>\n",
    "11. If you get A(s) on all your tests, you will get an A in this course <br>\n",
    "Let P(x) be that you get A(s) on all your tests <br>\n",
    "Let Q(x) be that you will get an A in this course\n",
    "$$P(x) \\implies \\neg Q(x)$$"
   ]
  },
  {
   "cell_type": "raw",
   "metadata": {},
   "source": []
  },
  {
   "cell_type": "code",
   "execution_count": 28,
   "metadata": {
    "collapsed": false
   },
   "outputs": [
    {
     "data": {
      "text/latex": [
       "Note to self\n",
       "$$c = \\sqrt{a^2 + b^2}$$"
      ],
      "text/plain": [
       "<IPython.core.display.Latex object>"
      ]
     },
     "metadata": {},
     "output_type": "display_data"
    }
   ],
   "source": [
    "%%latex\n",
    "Note to self\n",
    "$$c = \\sqrt{a^2 + b^2}$$"
   ]
  },
  {
   "cell_type": "code",
   "execution_count": null,
   "metadata": {
    "collapsed": true
   },
   "outputs": [],
   "source": []
  }
 ],
 "metadata": {
  "kernelspec": {
   "display_name": "Python 3",
   "language": "python",
   "name": "python3"
  },
  "language_info": {
   "codemirror_mode": {
    "name": "ipython",
    "version": 3
   },
   "file_extension": ".py",
   "mimetype": "text/x-python",
   "name": "python",
   "nbconvert_exporter": "python",
   "pygments_lexer": "ipython3",
   "version": "3.4.4"
  }
 },
 "nbformat": 4,
 "nbformat_minor": 0
}
